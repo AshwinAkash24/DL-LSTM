{
  "nbformat": 4,
  "nbformat_minor": 0,
  "metadata": {
    "colab": {
      "provenance": [],
      "authorship_tag": "ABX9TyNZ6R3olEcgGkntWXi4rNy2",
      "include_colab_link": true
    },
    "kernelspec": {
      "name": "python3",
      "display_name": "Python 3"
    },
    "language_info": {
      "name": "python"
    }
  },
  "cells": [
    {
      "cell_type": "markdown",
      "metadata": {
        "id": "view-in-github",
        "colab_type": "text"
      },
      "source": [
        "<a href=\"https://colab.research.google.com/github/AshwinAkash24/DL-LSTM/blob/main/Untitled19.ipynb\" target=\"_parent\"><img src=\"https://colab.research.google.com/assets/colab-badge.svg\" alt=\"Open In Colab\"/></a>"
      ]
    },
    {
      "cell_type": "markdown",
      "source": [
        "# Step-1: Import Libraries"
      ],
      "metadata": {
        "id": "kAxogCyK9KIM"
      }
    },
    {
      "cell_type": "code",
      "execution_count": 1,
      "metadata": {
        "id": "0wHWcnhh6Kh5"
      },
      "outputs": [],
      "source": [
        "import pandas as pd\n",
        "import torch\n",
        "import torch.nn as nn\n",
        "import numpy as np\n",
        "import matplotlib.pyplot as plt\n",
        "from torch.utils.data import Dataset, DataLoader\n",
        "from torch.nn.utils.rnn import pad_sequence\n",
        "import warnings\n",
        "warnings.filterwarnings(\"ignore\", category=DeprecationWarning)"
      ]
    },
    {
      "cell_type": "code",
      "source": [
        "device = torch.device('cuda' if torch.cuda.is_available() else 'cpu')\n",
        "print(f\"Using device: {device}\")"
      ],
      "metadata": {
        "colab": {
          "base_uri": "https://localhost:8080/"
        },
        "id": "3qQzHZsV6NQU",
        "outputId": "f4f44d0e-7623-43b1-d983-93836c11babc"
      },
      "execution_count": 2,
      "outputs": [
        {
          "output_type": "stream",
          "name": "stdout",
          "text": [
            "Using device: cpu\n"
          ]
        }
      ]
    },
    {
      "cell_type": "code",
      "source": [
        "data = pd.read_csv(\"ner_dataset.csv\", encoding=\"latin1\").ffill()"
      ],
      "metadata": {
        "id": "8bEt9MGH6Wiv"
      },
      "execution_count": 3,
      "outputs": []
    },
    {
      "cell_type": "code",
      "source": [
        "words = list(data[\"Word\"].unique())\n",
        "tags = list(data[\"Tag\"].unique())"
      ],
      "metadata": {
        "id": "RzOlMwWj6bHG"
      },
      "execution_count": 4,
      "outputs": []
    },
    {
      "cell_type": "code",
      "source": [
        "if \"ENDPAD\" not in words:\n",
        "    words.append(\"ENDPAD\")\n",
        "\n",
        "if \"PAD\" not in tags:\n",
        "    tags.append(\"PAD\")\n",
        "\n",
        "if \"O\" not in tags:\n",
        "    print(\"Warning: 'O' tag not present in dataset. Continuing without it.\")"
      ],
      "metadata": {
        "id": "8FnGycfx6eJU"
      },
      "execution_count": 5,
      "outputs": []
    },
    {
      "cell_type": "code",
      "source": [
        "word2idx = {w: i + 1 for i, w in enumerate(words)}\n",
        "tag2idx = {t: i for i, t in enumerate(tags)}\n",
        "idx2tag = {i: t for t, i in tag2idx.items()}"
      ],
      "metadata": {
        "id": "b2kooU4i6h9W"
      },
      "execution_count": 6,
      "outputs": []
    },
    {
      "cell_type": "markdown",
      "source": [
        "# Step-2: Get Unique Words And Tags"
      ],
      "metadata": {
        "id": "y2QTzf2b9SoV"
      }
    },
    {
      "cell_type": "code",
      "source": [
        "print(\"Unique words in corpus:\", data['Word'].nunique())\n",
        "print(\"Unique tags in corpus:\", data['Tag'].nunique())\n",
        "print(\"All tags (including PAD):\", tags)"
      ],
      "metadata": {
        "colab": {
          "base_uri": "https://localhost:8080/"
        },
        "id": "boa0_KzR6lkV",
        "outputId": "33d77634-8728-4539-9aea-587fe58e007d"
      },
      "execution_count": 7,
      "outputs": [
        {
          "output_type": "stream",
          "name": "stdout",
          "text": [
            "Unique words in corpus: 35177\n",
            "Unique tags in corpus: 17\n",
            "All tags (including PAD): ['O', 'B-geo', 'B-gpe', 'B-per', 'I-geo', 'B-org', 'I-org', 'B-tim', 'B-art', 'I-art', 'I-per', 'I-gpe', 'I-tim', 'B-nat', 'B-eve', 'I-eve', 'I-nat', 'PAD']\n"
          ]
        }
      ]
    },
    {
      "cell_type": "code",
      "source": [
        "class SentenceGetter:\n",
        "    def __init__(self, data):\n",
        "\n",
        "        grouped = data.groupby(\"Sentence #\", group_keys=False).apply(\n",
        "            lambda s: [(w, t) for w, t in zip(s[\"Word\"], s[\"Tag\"])]\n",
        "        )\n",
        "        self.sentences = list(grouped)"
      ],
      "metadata": {
        "id": "8-R0pQ4t6rHo"
      },
      "execution_count": 8,
      "outputs": []
    },
    {
      "cell_type": "code",
      "source": [
        "getter = SentenceGetter(data)\n",
        "sentences = getter.sentences\n",
        "print(\"Example sentence (index 0):\", sentences[0])"
      ],
      "metadata": {
        "colab": {
          "base_uri": "https://localhost:8080/"
        },
        "id": "hNLHuT8P6tj4",
        "outputId": "c04738c6-bc94-4a85-d239-4df59a8e84e5"
      },
      "execution_count": 9,
      "outputs": [
        {
          "output_type": "stream",
          "name": "stdout",
          "text": [
            "Example sentence (index 0): [('Thousands', 'O'), ('of', 'O'), ('demonstrators', 'O'), ('have', 'O'), ('marched', 'O'), ('through', 'O'), ('London', 'B-geo'), ('to', 'O'), ('protest', 'O'), ('the', 'O'), ('war', 'O'), ('in', 'O'), ('Iraq', 'B-geo'), ('and', 'O'), ('demand', 'O'), ('the', 'O'), ('withdrawal', 'O'), ('of', 'O'), ('British', 'B-gpe'), ('troops', 'O'), ('from', 'O'), ('that', 'O'), ('country', 'O'), ('.', 'O')]\n"
          ]
        }
      ]
    },
    {
      "cell_type": "code",
      "source": [
        "X = [[word2idx[w] for w, t in s] for s in sentences]\n",
        "y = [[tag2idx[t] for w, t in s] for s in sentences]"
      ],
      "metadata": {
        "id": "PvTyBrku6vQz"
      },
      "execution_count": 10,
      "outputs": []
    },
    {
      "cell_type": "code",
      "source": [
        "plt.hist([len(s) for s in sentences], bins=50)\n",
        "plt.title(\"Sentence length distribution\")\n",
        "plt.xlabel(\"Length\")\n",
        "plt.ylabel(\"Count\")\n",
        "plt.show()"
      ],
      "metadata": {
        "colab": {
          "base_uri": "https://localhost:8080/",
          "height": 472
        },
        "id": "gfQbHw4j6ybf",
        "outputId": "acd212bb-80a6-49ba-eb77-d60bfbced122"
      },
      "execution_count": 11,
      "outputs": [
        {
          "output_type": "display_data",
          "data": {
            "text/plain": [
              "<Figure size 640x480 with 1 Axes>"
            ],
            "image/png": "[encoded data removed]"
          },
          "metadata": {}
        }
      ]
    },
    {
      "cell_type": "markdown",
      "source": [
        "# Step-3: Separate X and Y"
      ],
      "metadata": {
        "id": "YPI8RjDW9bEa"
      }
    },
    {
      "cell_type": "code",
      "source": [
        "max_len = 50\n",
        "\n",
        "X_tensors = [torch.tensor(seq, dtype=torch.long) for seq in X]\n",
        "y_tensors = [torch.tensor(seq, dtype=torch.long) for seq in y]"
      ],
      "metadata": {
        "id": "k5FryyZI60lO"
      },
      "execution_count": 12,
      "outputs": []
    },
    {
      "cell_type": "code",
      "source": [
        "pad_input_value = word2idx[\"ENDPAD\"]\n",
        "pad_label_value = tag2idx[\"PAD\"]"
      ],
      "metadata": {
        "id": "rVS6ClsM630r"
      },
      "execution_count": 13,
      "outputs": []
    },
    {
      "cell_type": "code",
      "source": [
        "X_pad = pad_sequence(X_tensors, batch_first=True, padding_value=pad_input_value)\n",
        "y_pad = pad_sequence(y_tensors, batch_first=True, padding_value=pad_label_value)"
      ],
      "metadata": {
        "id": "JsZFfUMl651e"
      },
      "execution_count": 14,
      "outputs": []
    },
    {
      "cell_type": "code",
      "source": [
        "if X_pad.size(1) < max_len:\n",
        "\n",
        "    pad_amt = max_len - X_pad.size(1)\n",
        "    X_pad = torch.cat([X_pad, torch.full((X_pad.size(0), pad_amt), pad_input_value, dtype=torch.long)], dim=1)\n",
        "    y_pad = torch.cat([y_pad, torch.full((y_pad.size(0), pad_amt), pad_label_value, dtype=torch.long)], dim=1)\n",
        "else:\n",
        "    X_pad = X_pad[:, :max_len]\n",
        "    y_pad = y_pad[:, :max_len]"
      ],
      "metadata": {
        "id": "BM3qeo_t69Sy"
      },
      "execution_count": 15,
      "outputs": []
    },
    {
      "cell_type": "code",
      "source": [
        "print(\"X_pad shape:\", X_pad.shape)\n",
        "print(\"y_pad shape:\", y_pad.shape)"
      ],
      "metadata": {
        "colab": {
          "base_uri": "https://localhost:8080/"
        },
        "id": "HGwDSnjM6_tP",
        "outputId": "7af7217f-8ec1-4907-a3ee-73c42f8159ca"
      },
      "execution_count": 16,
      "outputs": [
        {
          "output_type": "stream",
          "name": "stdout",
          "text": [
            "X_pad shape: torch.Size([47959, 50])\n",
            "y_pad shape: torch.Size([47959, 50])\n"
          ]
        }
      ]
    },
    {
      "cell_type": "code",
      "source": [
        "dataset_size = X_pad.size(0)\n",
        "perm = torch.randperm(dataset_size)\n",
        "train_size = int(0.8 * dataset_size)\n",
        "train_idx = perm[:train_size]\n",
        "test_idx = perm[train_size:]\n",
        "\n",
        "X_train = X_pad[train_idx]\n",
        "y_train = y_pad[train_idx]\n",
        "X_test = X_pad[test_idx]\n",
        "y_test = y_pad[test_idx]"
      ],
      "metadata": {
        "id": "HbGaZv6q7BZs"
      },
      "execution_count": 17,
      "outputs": []
    },
    {
      "cell_type": "markdown",
      "source": [
        "# Step-4: Now Get NERDataset"
      ],
      "metadata": {
        "id": "09m-vHvk9iRa"
      }
    },
    {
      "cell_type": "code",
      "source": [
        "class NERDataset(Dataset):\n",
        "    def __init__(self, X, y):\n",
        "        self.X = X\n",
        "        self.y = y\n",
        "    def __len__(self):\n",
        "        return len(self.X)\n",
        "    def __getitem__(self, idx):\n",
        "        return {\n",
        "            \"input_ids\": self.X[idx],\n",
        "            \"labels\": self.y[idx]\n",
        "        }"
      ],
      "metadata": {
        "id": "D62Oc83F7C4N"
      },
      "execution_count": 18,
      "outputs": []
    },
    {
      "cell_type": "code",
      "source": [
        "train_loader = DataLoader(NERDataset(X_train, y_train), batch_size=32, shuffle=True)\n",
        "test_loader = DataLoader(NERDataset(X_test, y_test), batch_size=32, shuffle=False)"
      ],
      "metadata": {
        "id": "JYmPuzt07FBy"
      },
      "execution_count": 19,
      "outputs": []
    },
    {
      "cell_type": "code",
      "source": [
        "class BiLSTMTagger(nn.Module):\n",
        "    def __init__(self, vocab_size, tagset_size, embedding_dim=50, hidden_dim=100, dropout=0.1):\n",
        "        super(BiLSTMTagger, self).__init__()\n",
        "        self.embedding = nn.Embedding(vocab_size, embedding_dim, padding_idx=0)\n",
        "        self.dropout = nn.Dropout(dropout)\n",
        "        self.lstm = nn.LSTM(embedding_dim, hidden_dim, batch_first=True, bidirectional=True)\n",
        "        self.fc = nn.Linear(hidden_dim * 2, tagset_size)\n",
        "\n",
        "    def forward(self, x):\n",
        "        x = self.embedding(x)\n",
        "        x = self.dropout(x)\n",
        "        x, _ = self.lstm(x)\n",
        "        out = self.fc(x)\n",
        "        return out"
      ],
      "metadata": {
        "id": "4cHjLZMM7Hlf"
      },
      "execution_count": 20,
      "outputs": []
    },
    {
      "cell_type": "code",
      "source": [
        "vocab_size = len(word2idx) + 1\n",
        "tagset_size = len(tag2idx)"
      ],
      "metadata": {
        "id": "zVq1EZKm7JrF"
      },
      "execution_count": 21,
      "outputs": []
    },
    {
      "cell_type": "code",
      "source": [
        "model = BiLSTMTagger(vocab_size=vocab_size, tagset_size=tagset_size).to(device)"
      ],
      "metadata": {
        "id": "TaZWMqE67LRt"
      },
      "execution_count": 22,
      "outputs": []
    },
    {
      "cell_type": "code",
      "source": [
        "loss_fn = nn.CrossEntropyLoss(ignore_index=pad_label_value)\n",
        "optimizer = torch.optim.Adam(model.parameters(), lr=0.001)"
      ],
      "metadata": {
        "id": "DrFnCM8h7NOF"
      },
      "execution_count": 23,
      "outputs": []
    },
    {
      "cell_type": "markdown",
      "source": [
        "# Step-5: Train The Model"
      ],
      "metadata": {
        "id": "VKjxu7Uy9q-p"
      }
    },
    {
      "cell_type": "code",
      "source": [
        "def train_model(model, train_loader, val_loader, loss_fn, optimizer, epochs=3):\n",
        "    train_losses, val_losses = [], []\n",
        "    for epoch in range(epochs):\n",
        "        model.train()\n",
        "        total_loss = 0.0\n",
        "        for batch in train_loader:\n",
        "            input_ids = batch[\"input_ids\"].to(device)\n",
        "            labels = batch[\"labels\"].to(device)  # shape (batch, seq_len)\n",
        "            optimizer.zero_grad()\n",
        "            outputs = model(input_ids)\n",
        "            loss = loss_fn(outputs.view(-1, tagset_size), labels.view(-1))\n",
        "            loss.backward()\n",
        "            optimizer.step()\n",
        "            total_loss += loss.item()\n",
        "\n",
        "        # validation\n",
        "        model.eval()\n",
        "        val_loss = 0.0\n",
        "        with torch.no_grad():\n",
        "            for batch in val_loader:\n",
        "                input_ids = batch[\"input_ids\"].to(device)\n",
        "                labels = batch[\"labels\"].to(device)\n",
        "                outputs = model(input_ids)\n",
        "                loss = loss_fn(outputs.view(-1, tagset_size), labels.view(-1))\n",
        "                val_loss += loss.item()\n",
        "\n",
        "        train_losses.append(total_loss)\n",
        "        val_losses.append(val_loss)\n",
        "        print(f\"Epoch {epoch+1}/{epochs} — Train Loss: {total_loss:.4f} — Val Loss: {val_loss:.4f}\")\n",
        "\n",
        "    return train_losses, val_losses"
      ],
      "metadata": {
        "id": "K-XT5qeh7Pht"
      },
      "execution_count": 24,
      "outputs": []
    },
    {
      "cell_type": "markdown",
      "source": [
        "# Step-6: Evaluate The Model"
      ],
      "metadata": {
        "id": "DGF6Qswy9zLI"
      }
    },
    {
      "cell_type": "code",
      "source": [
        "def evaluate_model(model, test_loader):\n",
        "    model.eval()\n",
        "    true_tags, pred_tags = [], []\n",
        "    with torch.no_grad():\n",
        "        for batch in test_loader:\n",
        "            input_ids = batch[\"input_ids\"].to(device)\n",
        "            labels = batch[\"labels\"].to(device)\n",
        "            outputs = model(input_ids)\n",
        "            preds = torch.argmax(outputs, dim=-1)\n",
        "            for i in range(labels.size(0)):\n",
        "                for j in range(labels.size(1)):\n",
        "                    lab = labels[i, j].item()\n",
        "                    if lab != pad_label_value:\n",
        "                        true_tags.append(idx2tag[lab])\n",
        "                        pred_tags.append(idx2tag[preds[i, j].item()])\n",
        "    return true_tags, pred_tags"
      ],
      "metadata": {
        "id": "ROJTtot37TWI"
      },
      "execution_count": 25,
      "outputs": []
    },
    {
      "cell_type": "code",
      "source": [
        "train_losses, val_losses = train_model(model, train_loader, test_loader, loss_fn, optimizer, epochs=3)\n",
        "true_tags, pred_tags = evaluate_model(model, test_loader)"
      ],
      "metadata": {
        "colab": {
          "base_uri": "https://localhost:8080/"
        },
        "id": "MlhOk0nD7Vw2",
        "outputId": "f63d5ca1-3b1b-4da5-9169-36277491b7dc"
      },
      "execution_count": 26,
      "outputs": [
        {
          "output_type": "stream",
          "name": "stdout",
          "text": [
            "Epoch 1/3 — Train Loss: 513.7850 — Val Loss: 70.7438\n",
            "Epoch 2/3 — Train Loss: 236.2950 — Val Loss: 49.7733\n",
            "Epoch 3/3 — Train Loss: 177.5879 — Val Loss: 42.8021\n"
          ]
        }
      ]
    },
    {
      "cell_type": "markdown",
      "source": [
        "# STep-7: Get Classification Report"
      ],
      "metadata": {
        "id": "elYTkxcX95Z5"
      }
    },
    {
      "cell_type": "code",
      "source": [
        "try:\n",
        "    from sklearn.metrics import classification_report\n",
        "    print(\"\\nClassification Report (ignoring PAD):\")\n",
        "    print(classification_report(true_tags, pred_tags, zero_division=0))\n",
        "except Exception as e:\n",
        "    print(\"sklearn not available or other error while creating classification report:\", e)"
      ],
      "metadata": {
        "colab": {
          "base_uri": "https://localhost:8080/"
        },
        "id": "BuslgvA17Xku",
        "outputId": "4b895a3e-5383-4128-8f59-247fb8e4551d"
      },
      "execution_count": 27,
      "outputs": [
        {
          "output_type": "stream",
          "name": "stdout",
          "text": [
            "\n",
            "Classification Report (ignoring PAD):\n",
            "              precision    recall  f1-score   support\n",
            "\n",
            "       B-art       0.00      0.00      0.00        83\n",
            "       B-eve       0.86      0.30      0.44        61\n",
            "       B-geo       0.79      0.89      0.83      7578\n",
            "       B-gpe       0.94      0.90      0.92      3199\n",
            "       B-nat       0.50      0.07      0.13        40\n",
            "       B-org       0.76      0.57      0.65      3962\n",
            "       B-per       0.77      0.73      0.75      3436\n",
            "       B-tim       0.92      0.81      0.86      4169\n",
            "       I-art       0.00      0.00      0.00        59\n",
            "       I-eve       0.33      0.09      0.14        45\n",
            "       I-geo       0.79      0.71      0.75      1577\n",
            "       I-gpe       0.93      0.37      0.53        38\n",
            "       I-nat       0.00      0.00      0.00         6\n",
            "       I-org       0.76      0.68      0.72      3408\n",
            "       I-per       0.80      0.86      0.83      3506\n",
            "       I-tim       0.82      0.67      0.74      1342\n",
            "           O       0.98      0.99      0.99    178088\n",
            "\n",
            "    accuracy                           0.96    210597\n",
            "   macro avg       0.65      0.51      0.55    210597\n",
            "weighted avg       0.96      0.96      0.96    210597\n",
            "\n"
          ]
        }
      ]
    },
    {
      "cell_type": "code",
      "source": [
        "history_df = pd.DataFrame({\"loss\": train_losses, \"val_loss\": val_losses})\n",
        "history_df.plot(title=\"Loss Over Epochs\")\n",
        "plt.xlabel(\"Epoch\")\n",
        "plt.ylabel(\"Loss\")\n",
        "plt.grid(True)\n",
        "plt.show()"
      ],
      "metadata": {
        "colab": {
          "base_uri": "https://localhost:8080/",
          "height": 472
        },
        "id": "3rK5GNws87nc",
        "outputId": "7e2e99b6-378e-48af-baab-d97c3b14d8a1"
      },
      "execution_count": 28,
      "outputs": [
        {
          "output_type": "display_data",
          "data": {
            "text/plain": [
              "<Figure size 640x480 with 1 Axes>"
            ],
            "image/png": "[encoded data removed]"
          },
          "metadata": {}
        }
      ]
    },
    {
      "cell_type": "code",
      "source": [
        "sample_idx = 0\n",
        "if sample_idx < len(X_test):\n",
        "    model.eval()\n",
        "    sample = X_test[sample_idx].unsqueeze(0).to(device)\n",
        "    with torch.no_grad():\n",
        "        output = model(sample)\n",
        "        preds = torch.argmax(output, dim=-1).squeeze().cpu().numpy()\n",
        "    true = y_test[sample_idx].numpy()\n",
        "    print(\"{:<15} {:<12} {}\".format(\"Word\", \"True\", \"Pred\"))\n",
        "    print(\"-\" * 42)\n",
        "    for w_id, true_tag_idx, pred_tag_idx in zip(X_test[sample_idx], true, preds):\n",
        "        if w_id.item() != pad_input_value:\n",
        "            word = words[w_id.item() - 1]\n",
        "            true_label = idx2tag[int(true_tag_idx)]\n",
        "            pred_label = idx2tag[int(pred_tag_idx)]\n",
        "            print(f\"{word: <15} {true_label: <12} {pred_label}\")\n",
        "else:\n",
        "    print(\"sample_idx out of range for X_test\")"
      ],
      "metadata": {
        "colab": {
          "base_uri": "https://localhost:8080/"
        },
        "id": "LgidrR169DJn",
        "outputId": "3676529d-b1d3-4890-909b-fddafc0b22dd"
      },
      "execution_count": 29,
      "outputs": [
        {
          "output_type": "stream",
          "name": "stdout",
          "text": [
            "Word            True         Pred\n",
            "------------------------------------------\n",
            "The             O            O\n",
            "sole            O            O\n",
            "dissenting      O            O\n",
            "justice         O            O\n",
            ",               O            O\n",
            "Edmund          B-per        O\n",
            "Levy            I-per        I-per\n",
            ",               O            O\n",
            "said            O            O\n",
            "the             O            O\n",
            "plan            O            O\n",
            "should          O            O\n",
            "be              O            O\n",
            "canceled        O            O\n",
            ".               O            O\n"
          ]
        }
      ]
    },
    {
      "cell_type": "code",
      "source": [],
      "metadata": {
        "id": "U5AZ3YCy9FzM"
      },
      "execution_count": null,
      "outputs": []
    }
  ]
}